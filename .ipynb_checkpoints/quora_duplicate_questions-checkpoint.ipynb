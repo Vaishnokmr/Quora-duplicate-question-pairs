{
 "cells": [
  {
   "cell_type": "code",
   "execution_count": 25,
   "id": "51dca219-955a-4da9-90f1-7c65b41fb138",
   "metadata": {},
   "outputs": [],
   "source": [
    "import pandas as pd\n",
    "import numpy as np\n",
    "import matplotlib.pyplot as plt\n",
    "import seaborn as sns\n",
    "import plotly.express as px\n",
    "import warnings\n",
    "warnings.filterwarnings('ignore')\n",
    "import timeit"
   ]
  },
  {
   "cell_type": "code",
   "execution_count": 26,
   "id": "1e137434-0bf1-4450-a405-4123eea9f18f",
   "metadata": {},
   "outputs": [],
   "source": [
    "df=pd.read_csv('train.csv').sample(1000)"
   ]
  },
  {
   "cell_type": "code",
   "execution_count": 27,
   "id": "3530c503-8ae3-499e-affc-45045c474e02",
   "metadata": {},
   "outputs": [
    {
     "data": {
      "text/plain": [
       "0    592\n",
       "1    408\n",
       "Name: is_duplicate, dtype: int64"
      ]
     },
     "execution_count": 27,
     "metadata": {},
     "output_type": "execute_result"
    }
   ],
   "source": [
    "df.is_duplicate.value_counts()"
   ]
  },
  {
   "cell_type": "code",
   "execution_count": 28,
   "id": "1c8cca53-08d8-4897-8596-b932ceac8397",
   "metadata": {},
   "outputs": [
    {
     "data": {
      "text/plain": [
       "id              0\n",
       "qid1            0\n",
       "qid2            0\n",
       "question1       0\n",
       "question2       0\n",
       "is_duplicate    0\n",
       "dtype: int64"
      ]
     },
     "execution_count": 28,
     "metadata": {},
     "output_type": "execute_result"
    }
   ],
   "source": [
    "df.isna().sum()"
   ]
  },
  {
   "cell_type": "markdown",
   "id": "8cb89d5a-7052-4094-8e69-a77c8fd5d92f",
   "metadata": {},
   "source": [
    "## Without Feature Engineering"
   ]
  },
  {
   "cell_type": "code",
   "execution_count": 29,
   "id": "24fb567b-e72f-406d-936a-b30070aa57db",
   "metadata": {},
   "outputs": [],
   "source": [
    "question_df = df[['question1','question2']]"
   ]
  },
  {
   "cell_type": "code",
   "execution_count": 30,
   "id": "3d36ac6e-aba9-4717-affc-5136de4ebc54",
   "metadata": {},
   "outputs": [],
   "source": [
    "from sklearn.feature_extraction.text import CountVectorizer"
   ]
  },
  {
   "cell_type": "code",
   "execution_count": 31,
   "id": "6ffee578-6dc2-4bd7-a899-9811961928e6",
   "metadata": {},
   "outputs": [],
   "source": [
    "from sklearn.feature_extraction.text import CountVectorizer\n",
    "# merge texts\n",
    "questions = list(question_df['question1']) + list(question_df['question2'])\n",
    "\n",
    "cv = CountVectorizer(max_features=3000)\n",
    "q1_arr, q2_arr = np.vsplit(cv.fit_transform(questions).toarray(),2)"
   ]
  },
  {
   "cell_type": "code",
   "execution_count": 32,
   "id": "d1a28d30-4054-4514-8d21-d09f8780d5e6",
   "metadata": {},
   "outputs": [
    {
     "data": {
      "text/plain": [
       "(1000, 6000)"
      ]
     },
     "execution_count": 32,
     "metadata": {},
     "output_type": "execute_result"
    }
   ],
   "source": [
    "temp_df1 = pd.DataFrame(q1_arr, index= question_df.index)\n",
    "temp_df2 = pd.DataFrame(q2_arr, index= question_df.index)\n",
    "temp_df = pd.concat([temp_df1, temp_df2], axis=1)\n",
    "temp_df.shape"
   ]
  },
  {
   "cell_type": "code",
   "execution_count": 33,
   "id": "2970fca4-30d0-4402-81eb-fb7d05a27888",
   "metadata": {},
   "outputs": [],
   "source": [
    "temp_df['is_duplicate'] = df['is_duplicate']"
   ]
  },
  {
   "cell_type": "code",
   "execution_count": 34,
   "id": "313f76ff-225d-4f41-8924-4604a9d5b892",
   "metadata": {},
   "outputs": [],
   "source": [
    "from sklearn.model_selection import train_test_split\n",
    "X_train,X_test,y_train,y_test = train_test_split(temp_df.iloc[:,0:-1].values,temp_df.iloc[:,-1].values,test_size=0.2,random_state=1)"
   ]
  },
  {
   "cell_type": "code",
   "execution_count": 35,
   "id": "eb34f5fd-2499-47cc-b6bc-f2acd5d1ae33",
   "metadata": {},
   "outputs": [],
   "source": [
    "from sklearn.ensemble import     RandomForestClassifier\n",
    "from sklearn.tree import         DecisionTreeClassifier\n",
    "from sklearn.tree import         ExtraTreeClassifier\n",
    "from sklearn.ensemble import     AdaBoostClassifier\n",
    "from sklearn.ensemble import     BaggingClassifier\n",
    "from sklearn.ensemble import     ExtraTreesClassifier\n",
    "from sklearn.ensemble import     GradientBoostingClassifier\n",
    "from sklearn.ensemble import     VotingClassifier\n",
    "from sklearn.linear_model import LogisticRegression\n",
    "from sklearn.svm import          SVC\n",
    "from sklearn.metrics import accuracy_score,mean_absolute_error,mean_absolute_error,mean_squared_error"
   ]
  },
  {
   "cell_type": "code",
   "execution_count": 36,
   "id": "4c1a4dfa-2d43-4832-a3ae-3b8d758d854a",
   "metadata": {},
   "outputs": [],
   "source": [
    "LR  = LogisticRegression()\n",
    "RF  = RandomForestClassifier()\n",
    "DT  = DecisionTreeClassifier()\n",
    "ET  = ExtraTreeClassifier()\n",
    "ABC = AdaBoostClassifier()\n",
    "BC  = BaggingClassifier()\n",
    "GBC = GradientBoostingClassifier()"
   ]
  },
  {
   "cell_type": "code",
   "execution_count": 62,
   "id": "3ec9f27a-f0a9-4727-b39c-6b0edbb4cfe4",
   "metadata": {},
   "outputs": [],
   "source": [
    "ml_algo = [LR,RF,DT,ET,ABC,BC,GBC]\n",
    "ml_name = ['LR','RF','DT','ET','ABC','BC','GBC']"
   ]
  },
  {
   "cell_type": "code",
   "execution_count": 52,
   "id": "2c4db7a8-a86a-4b6c-a69d-12fb0c619f48",
   "metadata": {},
   "outputs": [],
   "source": [
    "import time\n",
    "score = []\n",
    "time_taken = []\n",
    "for i in ml_algo:\n",
    "    start = timeit.default_timer()\n",
    "    i.fit(X_train,y_train)\n",
    "    y_pred = i.predict(X_test)\n",
    "    stop = timeit.default_timer()\n",
    "    score.append(accuracy_score(y_test,y_pred))\n",
    "    time_taken.append(stop - start)"
   ]
  },
  {
   "cell_type": "code",
   "execution_count": null,
   "id": "54b2c37f-3618-44ea-898e-79c2ed3bc96a",
   "metadata": {},
   "outputs": [],
   "source": []
  },
  {
   "cell_type": "code",
   "execution_count": 82,
   "id": "9a1680eb-f20d-4e43-8af7-a31c8f039316",
   "metadata": {},
   "outputs": [],
   "source": [
    "score_chart = pd.DataFrame({'ml_name':ml_name, 'score':[x*100 for x in score], 'time_taken':time_taken})"
   ]
  },
  {
   "cell_type": "code",
   "execution_count": 83,
   "id": "76cba699-f2de-40ff-a8d8-a958f355db42",
   "metadata": {},
   "outputs": [
    {
     "data": {
      "text/html": [
       "<div>\n",
       "<style scoped>\n",
       "    .dataframe tbody tr th:only-of-type {\n",
       "        vertical-align: middle;\n",
       "    }\n",
       "\n",
       "    .dataframe tbody tr th {\n",
       "        vertical-align: top;\n",
       "    }\n",
       "\n",
       "    .dataframe thead th {\n",
       "        text-align: right;\n",
       "    }\n",
       "</style>\n",
       "<table border=\"1\" class=\"dataframe\">\n",
       "  <thead>\n",
       "    <tr style=\"text-align: right;\">\n",
       "      <th></th>\n",
       "      <th>ml_name</th>\n",
       "      <th>score</th>\n",
       "      <th>time_taken</th>\n",
       "    </tr>\n",
       "  </thead>\n",
       "  <tbody>\n",
       "    <tr>\n",
       "      <th>0</th>\n",
       "      <td>LR</td>\n",
       "      <td>60.5</td>\n",
       "      <td>0.368664</td>\n",
       "    </tr>\n",
       "    <tr>\n",
       "      <th>1</th>\n",
       "      <td>RF</td>\n",
       "      <td>64.0</td>\n",
       "      <td>2.292988</td>\n",
       "    </tr>\n",
       "    <tr>\n",
       "      <th>2</th>\n",
       "      <td>DT</td>\n",
       "      <td>58.5</td>\n",
       "      <td>0.765625</td>\n",
       "    </tr>\n",
       "    <tr>\n",
       "      <th>3</th>\n",
       "      <td>ET</td>\n",
       "      <td>58.0</td>\n",
       "      <td>0.079584</td>\n",
       "    </tr>\n",
       "    <tr>\n",
       "      <th>4</th>\n",
       "      <td>ABC</td>\n",
       "      <td>57.5</td>\n",
       "      <td>4.938496</td>\n",
       "    </tr>\n",
       "    <tr>\n",
       "      <th>5</th>\n",
       "      <td>BC</td>\n",
       "      <td>62.0</td>\n",
       "      <td>4.765967</td>\n",
       "    </tr>\n",
       "    <tr>\n",
       "      <th>6</th>\n",
       "      <td>GBC</td>\n",
       "      <td>61.0</td>\n",
       "      <td>16.298272</td>\n",
       "    </tr>\n",
       "  </tbody>\n",
       "</table>\n",
       "</div>"
      ],
      "text/plain": [
       "  ml_name  score  time_taken\n",
       "0      LR   60.5    0.368664\n",
       "1      RF   64.0    2.292988\n",
       "2      DT   58.5    0.765625\n",
       "3      ET   58.0    0.079584\n",
       "4     ABC   57.5    4.938496\n",
       "5      BC   62.0    4.765967\n",
       "6     GBC   61.0   16.298272"
      ]
     },
     "execution_count": 83,
     "metadata": {},
     "output_type": "execute_result"
    }
   ],
   "source": [
    "score_chart"
   ]
  },
  {
   "cell_type": "code",
   "execution_count": 101,
   "id": "5899ff94-dd14-4522-996f-eb2c6a4ff337",
   "metadata": {},
   "outputs": [
    {
     "data": {
      "text/html": [
       "<iframe\n",
       "    scrolling=\"no\"\n",
       "    width=\"100%\"\n",
       "    height=\"420\"\n",
       "    src=\"iframe_figures/figure_101.html\"\n",
       "    frameborder=\"0\"\n",
       "    allowfullscreen\n",
       "></iframe>\n"
      ]
     },
     "metadata": {},
     "output_type": "display_data"
    }
   ],
   "source": [
    "import plotly.express as px\n",
    "import plotly.io as pio\n",
    "pio.renderers.default = 'iframe'\n",
    "fig = px.bar(score_chart,x=\"ml_name\", y=\"score\",\n",
    "             hover_data=[\"score\",\"time_taken\"], color=\"time_taken\",\n",
    "             labels={'pop':'population of Canada'}, height=400, text_auto=True)\n",
    "fig.show()"
   ]
  },
  {
   "cell_type": "markdown",
   "id": "6aa6f7be-357a-4eee-96d4-d1d5bba343bc",
   "metadata": {},
   "source": [
    "## Feauring Engineering"
   ]
  },
  {
   "cell_type": "code",
   "execution_count": 102,
   "id": "56268105-ec10-4ab4-b768-5a51b329b748",
   "metadata": {},
   "outputs": [
    {
     "data": {
      "text/html": [
       "<div>\n",
       "<style scoped>\n",
       "    .dataframe tbody tr th:only-of-type {\n",
       "        vertical-align: middle;\n",
       "    }\n",
       "\n",
       "    .dataframe tbody tr th {\n",
       "        vertical-align: top;\n",
       "    }\n",
       "\n",
       "    .dataframe thead th {\n",
       "        text-align: right;\n",
       "    }\n",
       "</style>\n",
       "<table border=\"1\" class=\"dataframe\">\n",
       "  <thead>\n",
       "    <tr style=\"text-align: right;\">\n",
       "      <th></th>\n",
       "      <th>id</th>\n",
       "      <th>qid1</th>\n",
       "      <th>qid2</th>\n",
       "      <th>question1</th>\n",
       "      <th>question2</th>\n",
       "      <th>is_duplicate</th>\n",
       "    </tr>\n",
       "  </thead>\n",
       "  <tbody>\n",
       "    <tr>\n",
       "      <th>71293</th>\n",
       "      <td>71293</td>\n",
       "      <td>33778</td>\n",
       "      <td>122704</td>\n",
       "      <td>Can a British citizen work in the US if he doe...</td>\n",
       "      <td>I am a US citizen and live in the US but I wor...</td>\n",
       "      <td>0</td>\n",
       "    </tr>\n",
       "    <tr>\n",
       "      <th>5172</th>\n",
       "      <td>5172</td>\n",
       "      <td>10190</td>\n",
       "      <td>10191</td>\n",
       "      <td>Why do people adopt savannah cats?</td>\n",
       "      <td>Why is my adopted cat hiding from me?</td>\n",
       "      <td>0</td>\n",
       "    </tr>\n",
       "    <tr>\n",
       "      <th>127014</th>\n",
       "      <td>127014</td>\n",
       "      <td>204568</td>\n",
       "      <td>204569</td>\n",
       "      <td>Does Palantir sponsor H1B visas?</td>\n",
       "      <td>How do engineers get promoted at Palantir?</td>\n",
       "      <td>0</td>\n",
       "    </tr>\n",
       "    <tr>\n",
       "      <th>372138</th>\n",
       "      <td>372138</td>\n",
       "      <td>60122</td>\n",
       "      <td>320508</td>\n",
       "      <td>What hotel in Maibong Hill-station would be sa...</td>\n",
       "      <td>What hotel in Peermade Hill-station would be s...</td>\n",
       "      <td>0</td>\n",
       "    </tr>\n",
       "    <tr>\n",
       "      <th>376821</th>\n",
       "      <td>376821</td>\n",
       "      <td>370628</td>\n",
       "      <td>53426</td>\n",
       "      <td>What is the difference between a USB charging ...</td>\n",
       "      <td>Do all USB-C cables support all USB-C modes?</td>\n",
       "      <td>0</td>\n",
       "    </tr>\n",
       "    <tr>\n",
       "      <th>...</th>\n",
       "      <td>...</td>\n",
       "      <td>...</td>\n",
       "      <td>...</td>\n",
       "      <td>...</td>\n",
       "      <td>...</td>\n",
       "      <td>...</td>\n",
       "    </tr>\n",
       "    <tr>\n",
       "      <th>61249</th>\n",
       "      <td>61249</td>\n",
       "      <td>106977</td>\n",
       "      <td>106978</td>\n",
       "      <td>Why is my body so hot when I first wake up fro...</td>\n",
       "      <td>Why is it nearly impossible to sleep soon afte...</td>\n",
       "      <td>0</td>\n",
       "    </tr>\n",
       "    <tr>\n",
       "      <th>20892</th>\n",
       "      <td>20892</td>\n",
       "      <td>39378</td>\n",
       "      <td>39379</td>\n",
       "      <td>What will happen if postpaid bill is not paid?</td>\n",
       "      <td>What happens if you refuse to pay a prepaid ph...</td>\n",
       "      <td>0</td>\n",
       "    </tr>\n",
       "    <tr>\n",
       "      <th>344595</th>\n",
       "      <td>344595</td>\n",
       "      <td>472841</td>\n",
       "      <td>472842</td>\n",
       "      <td>Are there some differences between internation...</td>\n",
       "      <td>Is it true that honey is used in the manufactu...</td>\n",
       "      <td>0</td>\n",
       "    </tr>\n",
       "    <tr>\n",
       "      <th>93272</th>\n",
       "      <td>93272</td>\n",
       "      <td>155995</td>\n",
       "      <td>155996</td>\n",
       "      <td>Can anyone briefly explain the differences bet...</td>\n",
       "      <td>Could a Moore machine be converted into a DFA?</td>\n",
       "      <td>0</td>\n",
       "    </tr>\n",
       "    <tr>\n",
       "      <th>4355</th>\n",
       "      <td>4355</td>\n",
       "      <td>8608</td>\n",
       "      <td>8609</td>\n",
       "      <td>Why degree in psychology?</td>\n",
       "      <td>Should I get a degree in psychology?</td>\n",
       "      <td>1</td>\n",
       "    </tr>\n",
       "  </tbody>\n",
       "</table>\n",
       "<p>1000 rows × 6 columns</p>\n",
       "</div>"
      ],
      "text/plain": [
       "            id    qid1    qid2  \\\n",
       "71293    71293   33778  122704   \n",
       "5172      5172   10190   10191   \n",
       "127014  127014  204568  204569   \n",
       "372138  372138   60122  320508   \n",
       "376821  376821  370628   53426   \n",
       "...        ...     ...     ...   \n",
       "61249    61249  106977  106978   \n",
       "20892    20892   39378   39379   \n",
       "344595  344595  472841  472842   \n",
       "93272    93272  155995  155996   \n",
       "4355      4355    8608    8609   \n",
       "\n",
       "                                                question1  \\\n",
       "71293   Can a British citizen work in the US if he doe...   \n",
       "5172                   Why do people adopt savannah cats?   \n",
       "127014                   Does Palantir sponsor H1B visas?   \n",
       "372138  What hotel in Maibong Hill-station would be sa...   \n",
       "376821  What is the difference between a USB charging ...   \n",
       "...                                                   ...   \n",
       "61249   Why is my body so hot when I first wake up fro...   \n",
       "20892      What will happen if postpaid bill is not paid?   \n",
       "344595  Are there some differences between internation...   \n",
       "93272   Can anyone briefly explain the differences bet...   \n",
       "4355                            Why degree in psychology?   \n",
       "\n",
       "                                                question2  is_duplicate  \n",
       "71293   I am a US citizen and live in the US but I wor...             0  \n",
       "5172                Why is my adopted cat hiding from me?             0  \n",
       "127014         How do engineers get promoted at Palantir?             0  \n",
       "372138  What hotel in Peermade Hill-station would be s...             0  \n",
       "376821       Do all USB-C cables support all USB-C modes?             0  \n",
       "...                                                   ...           ...  \n",
       "61249   Why is it nearly impossible to sleep soon afte...             0  \n",
       "20892   What happens if you refuse to pay a prepaid ph...             0  \n",
       "344595  Is it true that honey is used in the manufactu...             0  \n",
       "93272      Could a Moore machine be converted into a DFA?             0  \n",
       "4355                 Should I get a degree in psychology?             1  \n",
       "\n",
       "[1000 rows x 6 columns]"
      ]
     },
     "execution_count": 102,
     "metadata": {},
     "output_type": "execute_result"
    }
   ],
   "source": [
    "df"
   ]
  },
  {
   "cell_type": "markdown",
   "id": "d5c0f7cb-722f-4b3a-826b-151340c5b605",
   "metadata": {},
   "source": [
    "### Remove Tags"
   ]
  },
  {
   "cell_type": "code",
   "execution_count": 104,
   "id": "d9e7ff97-e42c-4823-b2bf-8820e2068e35",
   "metadata": {},
   "outputs": [
    {
     "data": {
      "text/plain": [
       "[]"
      ]
     },
     "execution_count": 104,
     "metadata": {},
     "output_type": "execute_result"
    }
   ],
   "source": [
    "import re\n",
    "re.findall('<.*?>',df['question1'][71293])"
   ]
  },
  {
   "cell_type": "code",
   "execution_count": 105,
   "id": "5d70ca97-f19c-4521-8232-d3d2c20cbafb",
   "metadata": {},
   "outputs": [],
   "source": [
    "def remove_tag(raw_text):\n",
    "    val = re.sub(re.compile('<.*?>'),'',raw_text)\n",
    "    return val"
   ]
  },
  {
   "cell_type": "markdown",
   "id": "fa497749-8688-4d04-9627-dba489d8592f",
   "metadata": {},
   "source": [
    "### LowerCase"
   ]
  },
  {
   "cell_type": "code",
   "execution_count": 106,
   "id": "0dfc8cc2-a9cc-4651-83ba-d9e555869fc6",
   "metadata": {},
   "outputs": [
    {
     "name": "stdout",
     "output_type": "stream",
     "text": [
      "total number of upper text is  8\n"
     ]
    }
   ],
   "source": [
    "val = [x.isupper() for x in df['question1'][71293] ]\n",
    "counter = 0\n",
    "for i in val:\n",
    "    if i == False:\n",
    "        counter = counter + 1\n",
    "a = len(df['question1'][71293]) - counter\n",
    "print('total number of upper text is ', a)"
   ]
  },
  {
   "cell_type": "code",
   "execution_count": 107,
   "id": "4e52d55b-072c-4d69-8df4-6a13a0766d6b",
   "metadata": {},
   "outputs": [],
   "source": [
    "df['question1'] = df['question1'].apply(lambda x:x.lower())\n",
    "df['question2'] = df['question2'].apply(lambda x:x.lower())"
   ]
  },
  {
   "cell_type": "code",
   "execution_count": 108,
   "id": "76fc550a-2962-4175-bf82-539825cd65c3",
   "metadata": {},
   "outputs": [
    {
     "name": "stdout",
     "output_type": "stream",
     "text": [
      "total number of upper text is  0\n"
     ]
    }
   ],
   "source": [
    "val = [x.isupper() for x in df['question1'][71293] ]\n",
    "counter = 0\n",
    "for i in val:\n",
    "    if i == False:\n",
    "        counter = counter + 1\n",
    "a = len(df['question1'][71293]) - counter\n",
    "print('total number of upper text is ', a)"
   ]
  },
  {
   "cell_type": "markdown",
   "id": "b1704a8c-3aeb-4804-8024-6dd26278d7fa",
   "metadata": {},
   "source": [
    "### Stopwords"
   ]
  },
  {
   "cell_type": "code",
   "execution_count": 109,
   "id": "14b430e7-f29d-4615-8f4a-3995a66b9da5",
   "metadata": {},
   "outputs": [
    {
     "name": "stdout",
     "output_type": "stream",
     "text": [
      "Found ------  can\n",
      "Found ------  a\n",
      "Found ------  in\n",
      "Found ------  the\n",
      "Found ------  if\n",
      "Found ------  he\n",
      "Found ------  have\n",
      "Found ------  a\n",
      "Found ------  from\n",
      "Found ------  his\n",
      "Found ------  or\n",
      "Found ------  can\n",
      "Found ------  a\n",
      "Found ------  for\n",
      "Found ------  in\n",
      "Found ------  the\n",
      "Found ------  if\n",
      "Found ------  he\n",
      "Found ------  has\n",
      "Not Found -------\n"
     ]
    }
   ],
   "source": [
    "from nltk.corpus import stopwords\n",
    "enquiry = stopwords.words('english')\n",
    "for i in df['question1'][71293].split():\n",
    "    for j in enquiry:\n",
    "        if i == j:\n",
    "            print('Found ------ ',i)\n",
    "print(\"Not Found -------\")"
   ]
  },
  {
   "cell_type": "code",
   "execution_count": 110,
   "id": "020ac7bc-1f31-4e04-a435-c194f65b8c77",
   "metadata": {},
   "outputs": [],
   "source": [
    "df['question1'] = df['question1'].apply(lambda x:[item for item in x.split() if item not in enquiry]).apply(lambda x:' '.join(x))\n",
    "df['question2'] = df['question2'].apply(lambda x:[item for item in x.split() if item not in enquiry]).apply(lambda x:' '.join(x))"
   ]
  },
  {
   "cell_type": "code",
   "execution_count": 111,
   "id": "35220d4b-5b5e-4756-a5fc-7107be382135",
   "metadata": {},
   "outputs": [
    {
     "name": "stdout",
     "output_type": "stream",
     "text": [
      "Not Found -------\n"
     ]
    }
   ],
   "source": [
    "for i in df['question1'][71293].split():\n",
    "    for j in enquiry:\n",
    "        if i == j:\n",
    "            print('Found ------ ',i)\n",
    "print(\"Not Found -------\")"
   ]
  },
  {
   "cell_type": "markdown",
   "id": "d8234152-4519-4362-9db9-706bbad1d4d3",
   "metadata": {},
   "source": [
    "### Remove URL"
   ]
  },
  {
   "cell_type": "code",
   "execution_count": 116,
   "id": "43a97cbe-1670-4bba-bdc1-afce0a4e0017",
   "metadata": {},
   "outputs": [],
   "source": [
    "def remove_url(text):\n",
    "    pattern = re.compile(r'https?://\\S+|www\\.\\S+')\n",
    "    return pattern.sub(r'',text)"
   ]
  },
  {
   "cell_type": "code",
   "execution_count": 118,
   "id": "7eca075f-bcc4-4c9f-9f1e-b25d1decdf46",
   "metadata": {},
   "outputs": [
    {
     "data": {
      "text/plain": [
       "'british citizen work us doesn’t visa employer? british citizen work free us family there? please watch '"
      ]
     },
     "execution_count": 118,
     "metadata": {},
     "output_type": "execute_result"
    }
   ],
   "source": [
    "a = 'british citizen work us doesn’t visa employer? british citizen work free us family there? please watch www.forme.com'\n",
    "remove_url(a)"
   ]
  },
  {
   "cell_type": "code",
   "execution_count": 120,
   "id": "6c6fcf76-348f-4841-81ed-a1de884f450f",
   "metadata": {},
   "outputs": [],
   "source": [
    "df['question1'] = df['question1'].apply(remove_url)\n",
    "df['question2'] = df['question2'].apply(remove_url)"
   ]
  },
  {
   "cell_type": "markdown",
   "id": "0dc5bb7d-fcd5-4005-b059-984364facfe3",
   "metadata": {},
   "source": [
    "### Chat word treatment"
   ]
  },
  {
   "cell_type": "markdown",
   "id": "3e022d1b-7850-4b8f-8605-c98514120b20",
   "metadata": {},
   "source": [
    "### Spelling treatment"
   ]
  },
  {
   "cell_type": "code",
   "execution_count": 122,
   "id": "adf94ebf-a077-4511-989d-e4064147a22a",
   "metadata": {},
   "outputs": [],
   "source": [
    "from textblob import TextBlob"
   ]
  },
  {
   "cell_type": "code",
   "execution_count": 131,
   "id": "f51d85b1-7e47-43a4-8292-d65b8a07a441",
   "metadata": {},
   "outputs": [
    {
     "name": "stdout",
     "output_type": "stream",
     "text": [
      "british citizen work us doesn’t isa employer? british citizen work free us family there?\n",
      "time-taken : 0.001225699999849894\n",
      "whole time-taken : 1.225699999849894\n"
     ]
    }
   ],
   "source": [
    "incorr = 'british citizen work us doesn’t visa employer? british citizen work free us family there?'\n",
    "start = timeit.default_timer()\n",
    "textb = TextBlob(incorr)\n",
    "print(textb.correct().string)\n",
    "stop = timeit.default_timer()\n",
    "print(\"time-taken :\", (stop-start))\n",
    "print(\"whole time-taken :\",(stop-start)*len(df))"
   ]
  },
  {
   "cell_type": "code",
   "execution_count": 137,
   "id": "ef32b186-fd64-4a3b-b747-5a42cc82fa6b",
   "metadata": {},
   "outputs": [],
   "source": [
    "def correction(text):\n",
    "    textb = TextBlob(text)\n",
    "    return textb.correct().string "
   ]
  },
  {
   "cell_type": "code",
   "execution_count": 139,
   "id": "d1f379b8-c1fc-408c-8119-7d88206f7a6c",
   "metadata": {},
   "outputs": [],
   "source": [
    "# df['question1'].apply(correction)"
   ]
  },
  {
   "cell_type": "markdown",
   "id": "61526db5-0424-4e5a-a559-ed964a1e3da0",
   "metadata": {},
   "source": [
    "### Stemming "
   ]
  },
  {
   "cell_type": "code",
   "execution_count": 154,
   "id": "a8b8e45c-0912-460f-b6e9-a762cc95e987",
   "metadata": {},
   "outputs": [
    {
     "data": {
      "text/plain": [
       "'hotel maibong hill-station would safe unmarried couples, without harassment police, hotel staff, moral police?'"
      ]
     },
     "execution_count": 154,
     "metadata": {},
     "output_type": "execute_result"
    }
   ],
   "source": [
    "df['question1'][372138]"
   ]
  },
  {
   "cell_type": "code",
   "execution_count": 164,
   "id": "2f610e92-0013-4222-9d99-ebc49741c9e8",
   "metadata": {},
   "outputs": [
    {
     "name": "stdout",
     "output_type": "stream",
     "text": [
      "word                lemma               \n",
      "hotel               hotel               \n",
      "maibong             maibong             \n",
      "hill-station        hill-stat           \n",
      "would               would               \n",
      "safe                safe                \n",
      "unmarried           unmarri             \n",
      "couples             coupl               \n",
      "without             without             \n",
      "harassment          harass              \n",
      "police              polic               \n",
      "hotel               hotel               \n",
      "staff               staff               \n",
      "moral               moral               \n",
      "police              polic               \n",
      "\n",
      "*-*-*-*-*-*-*-*-*-*-*-*-*-*-*-*-*-*-*-*-*-*-*-*-*-*-*-*-*-*-*-*-*-*-*-*-*-*-*-*-*-*-*-*-*-*-*-*-*-*-\n",
      "\n",
      "time-taken : 0.0016998000000967295\n",
      "whole time-taken : 1.6998000000967295\n",
      "\n",
      "*-*-*-*-*-*-*-*-*-*-*-*-*-*-*-*-*-*-*-*-*-*-*-*-*-*-*-*-*-*-*-*-*-*-*-*-*-*-*-*-*-*-*-*-*-*-*-*-*-*-\n"
     ]
    }
   ],
   "source": [
    "from nltk.stem.porter import PorterStemmer \n",
    "ps =  PorterStemmer()\n",
    "punct = '?:!.,;'\n",
    "sent_word = nltk.word_tokenize(df['question1'][372138])\n",
    "for word in sent_word:\n",
    "    if word in punct:\n",
    "        sent_word.remove(word)\n",
    "print(\"{0:20}{1:20}\".format('word','lemma'))   \n",
    "for word in sent_word:\n",
    "    print(\"{0:20}{1:20}\".format(word, ps.stem(word) )) \n",
    "print('')\n",
    "print('*-'*50)\n",
    "print('')\n",
    "print(\"time-taken :\", (stop-start))\n",
    "print(\"whole time-taken :\",(stop-start)*len(df))\n",
    "print('')\n",
    "print('*-'*50)"
   ]
  },
  {
   "cell_type": "markdown",
   "id": "bf954f36-f955-4b20-a067-f258ab72d973",
   "metadata": {},
   "source": [
    "### Lemmatization"
   ]
  },
  {
   "cell_type": "code",
   "execution_count": 165,
   "id": "39043b72-a33d-4b63-b9af-aadab1d851cf",
   "metadata": {},
   "outputs": [
    {
     "name": "stdout",
     "output_type": "stream",
     "text": [
      "word                lemma               \n",
      "hotel               hotel               \n",
      "maibong             maibong             \n",
      "hill-station        hill-station        \n",
      "would               would               \n",
      "safe                safe                \n",
      "unmarried           unmarried           \n",
      "couples             couple              \n",
      "without             without             \n",
      "harassment          harassment          \n",
      "police              police              \n",
      "hotel               hotel               \n",
      "staff               staff               \n",
      "moral               moral               \n",
      "police              police              \n",
      "\n",
      "*-*-*-*-*-*-*-*-*-*-*-*-*-*-*-*-*-*-*-*-*-*-*-*-*-*-*-*-*-*-*-*-*-*-*-*-*-*-*-*-*-*-*-*-*-*-*-*-*-*-\n",
      "\n",
      "time-taken : 0.001430399999662768\n",
      "whole time-taken : 1.430399999662768\n",
      "\n",
      "*-*-*-*-*-*-*-*-*-*-*-*-*-*-*-*-*-*-*-*-*-*-*-*-*-*-*-*-*-*-*-*-*-*-*-*-*-*-*-*-*-*-*-*-*-*-*-*-*-*-\n"
     ]
    }
   ],
   "source": [
    "from nltk.stem import WordNetLemmatizer\n",
    "start = timeit.default_timer()\n",
    "wntlem =  WordNetLemmatizer()\n",
    "punct = '?:!.,;'\n",
    "sent_word = nltk.word_tokenize(df['question1'][372138])\n",
    "for word in sent_word:\n",
    "    if word in punct:\n",
    "        sent_word.remove(word)\n",
    "print(\"{0:20}{1:20}\".format('word','lemma'))   \n",
    "for word in sent_word:\n",
    "    print(\"{0:20}{1:20}\".format(word, wntlem.lemmatize(word,pos='v'))) \n",
    "stop = timeit.default_timer()  \n",
    "print('')\n",
    "print('*-'*50)\n",
    "print('')\n",
    "print(\"time-taken :\", (stop-start))\n",
    "print(\"whole time-taken :\",(stop-start)*len(df))\n",
    "print('')\n",
    "print('*-'*50)\n",
    "    "
   ]
  },
  {
   "cell_type": "code",
   "execution_count": 166,
   "id": "38540221-5bab-446f-817f-0b0aac14e090",
   "metadata": {},
   "outputs": [],
   "source": [
    "def lemme_word(text):\n",
    "    return ' '.join([wntlem.lemmatize(word,pos='v') for word in text.split() ])"
   ]
  },
  {
   "cell_type": "code",
   "execution_count": 169,
   "id": "184a810f-ddd7-4ea0-b486-411f999a4f4c",
   "metadata": {},
   "outputs": [],
   "source": [
    "df['question1'] = df['question1'].apply(lemme_word)\n",
    "df['question2'] = df['question2'].apply(lemme_word)"
   ]
  },
  {
   "cell_type": "code",
   "execution_count": null,
   "id": "7c41e079-e123-4d5c-a4b0-5bea56952d8f",
   "metadata": {},
   "outputs": [],
   "source": []
  },
  {
   "cell_type": "markdown",
   "id": "50de56f4-6007-4b84-8ac4-5ff39f9f6fd5",
   "metadata": {},
   "source": [
    "## ML Model"
   ]
  },
  {
   "cell_type": "code",
   "execution_count": 170,
   "id": "673ff075-86f5-4e46-829a-d6be6cc48ef1",
   "metadata": {},
   "outputs": [],
   "source": [
    "question_df_pre = df[['question1','question2']]"
   ]
  },
  {
   "cell_type": "markdown",
   "id": "8e4b1b9a-d71d-4486-afbe-73b2e9eaa1c8",
   "metadata": {},
   "source": [
    "### Bag of words"
   ]
  },
  {
   "cell_type": "code",
   "execution_count": 171,
   "id": "b650d185-d03e-4586-94f3-9094723f3e4a",
   "metadata": {},
   "outputs": [],
   "source": [
    "questions_pre = list(question_df_pre['question1']) + list(question_df_pre['question2'])\n",
    "cv = CountVectorizer(max_features=3000)\n",
    "q1_arr_pre, q2_arr_pre = np.vsplit(cv.fit_transform(questions_pre).toarray(),2)"
   ]
  },
  {
   "cell_type": "code",
   "execution_count": 172,
   "id": "c15112f3-b822-43d1-b794-3fe3656b3940",
   "metadata": {},
   "outputs": [
    {
     "data": {
      "text/plain": [
       "(1000, 6000)"
      ]
     },
     "execution_count": 172,
     "metadata": {},
     "output_type": "execute_result"
    }
   ],
   "source": [
    "temp_df1_pre = pd.DataFrame(q1_arr_pre, index= question_df_pre.index)\n",
    "temp_df2_pre = pd.DataFrame(q2_arr_pre, index= question_df_pre.index)\n",
    "temp_df_pre = pd.concat([temp_df1_pre, temp_df2_pre], axis=1)\n",
    "temp_df_pre.shape"
   ]
  },
  {
   "cell_type": "code",
   "execution_count": 173,
   "id": "acbb8e30-f0ee-462b-b8f7-53deffb847a3",
   "metadata": {},
   "outputs": [],
   "source": [
    "temp_df_pre['is_duplicate'] = df['is_duplicate']"
   ]
  },
  {
   "cell_type": "code",
   "execution_count": 174,
   "id": "94d71fab-a909-41b4-a5ad-32ae4d58d9c4",
   "metadata": {},
   "outputs": [],
   "source": [
    "# {k: v for k, v in sorted(cv.vocabulary_.items(),reverse=True, key=lambda item: item[1])}"
   ]
  },
  {
   "cell_type": "code",
   "execution_count": 175,
   "id": "f8e42579-1273-452d-914f-55655a2a7426",
   "metadata": {},
   "outputs": [],
   "source": [
    "from sklearn.model_selection import train_test_split\n",
    "X_train,X_test,y_train,y_test = train_test_split(temp_df_pre.iloc[:,0:-1].values,temp_df_pre.iloc[:,-1].values,test_size=0.2,random_state=1)"
   ]
  },
  {
   "cell_type": "code",
   "execution_count": 180,
   "id": "2780fe3f-fbf4-4ce6-a156-1a516606b0dd",
   "metadata": {},
   "outputs": [],
   "source": [
    "import time\n",
    "fe_score = []\n",
    "fe_time_taken = []\n",
    "for i in ml_algo:\n",
    "    start = timeit.default_timer()\n",
    "    i.fit(X_train,y_train)\n",
    "    y_pred = i.predict(X_test)\n",
    "    stop = timeit.default_timer()\n",
    "    fe_score.append(accuracy_score(y_test,y_pred))\n",
    "    fe_time_taken.append(stop - start)"
   ]
  },
  {
   "cell_type": "code",
   "execution_count": 181,
   "id": "740cce09-1a1e-4a7b-a6eb-f6953990f685",
   "metadata": {},
   "outputs": [],
   "source": [
    "fe_score_chart = pd.DataFrame({'ml_name':ml_name, 'score':[x*100 for x in fe_score], 'time_taken':fe_time_taken})"
   ]
  },
  {
   "cell_type": "code",
   "execution_count": 182,
   "id": "35b12acf-fe52-4c7c-9d78-7226cafe577b",
   "metadata": {},
   "outputs": [
    {
     "data": {
      "text/html": [
       "<iframe\n",
       "    scrolling=\"no\"\n",
       "    width=\"100%\"\n",
       "    height=\"420\"\n",
       "    src=\"iframe_figures/figure_182.html\"\n",
       "    frameborder=\"0\"\n",
       "    allowfullscreen\n",
       "></iframe>\n"
      ]
     },
     "metadata": {},
     "output_type": "display_data"
    }
   ],
   "source": [
    "import plotly.express as px\n",
    "import plotly.io as pio\n",
    "pio.renderers.default = 'iframe'\n",
    "fig = px.bar(fe_score_chart,x=\"ml_name\", y=\"score\",\n",
    "             hover_data=[\"score\",\"time_taken\"], color=\"time_taken\",\n",
    "             labels={'pop':'population of Canada'}, height=400, text_auto=True)\n",
    "fig.show()"
   ]
  },
  {
   "cell_type": "markdown",
   "id": "74755801-3e90-4e6c-9c7a-70ccb69080fc",
   "metadata": {},
   "source": [
    "### N-grams"
   ]
  },
  {
   "cell_type": "code",
   "execution_count": 183,
   "id": "be80008b-707d-4cae-9054-5553bfcb9404",
   "metadata": {},
   "outputs": [],
   "source": [
    "cv_ngrams = CountVectorizer(ngram_range=(2,2),max_features=3000)\n",
    "q1_arr_pre_ngrams, q2_arr_pre_ngrams = np.vsplit(cv_ngrams.fit_transform(questions_pre).toarray(),2)"
   ]
  },
  {
   "cell_type": "code",
   "execution_count": 184,
   "id": "f7d1ca3b-1870-42d4-9efb-e61e70a51221",
   "metadata": {},
   "outputs": [
    {
     "data": {
      "text/plain": [
       "(1000, 6000)"
      ]
     },
     "execution_count": 184,
     "metadata": {},
     "output_type": "execute_result"
    }
   ],
   "source": [
    "temp_df1_pre_ngrams = pd.DataFrame(q1_arr_pre_ngrams, index= question_df_pre.index)\n",
    "temp_df2_pre_ngrams= pd.DataFrame(q2_arr_pre_ngrams, index= question_df_pre.index)\n",
    "temp_df_pre_ngrams = pd.concat([temp_df1_pre_ngrams, temp_df2_pre_ngrams], axis=1)\n",
    "temp_df_pre_ngrams.shape"
   ]
  },
  {
   "cell_type": "code",
   "execution_count": 185,
   "id": "6164bf2e-b840-4080-a708-fe474d928f8f",
   "metadata": {},
   "outputs": [],
   "source": [
    "temp_df_pre_ngrams['is_duplicate'] = df['is_duplicate']"
   ]
  },
  {
   "cell_type": "code",
   "execution_count": 186,
   "id": "95a722b5-16c0-47cb-a8b4-b939cbe3779c",
   "metadata": {},
   "outputs": [],
   "source": [
    "from sklearn.model_selection import train_test_split\n",
    "X_train,X_test,y_train,y_test = train_test_split(temp_df_pre_ngrams.iloc[:,0:-1].values,temp_df_pre_ngrams.iloc[:,-1].values,test_size=0.2,random_state=1)"
   ]
  },
  {
   "cell_type": "code",
   "execution_count": 187,
   "id": "a941938e-cf15-4493-9b04-1ea500977c2c",
   "metadata": {},
   "outputs": [],
   "source": [
    "ngram_score = []\n",
    "ngram_time_taken = []\n",
    "for i in ml_algo:\n",
    "    i.fit(X_train,y_train)\n",
    "    y_pred = i.predict(X_test)\n",
    "    stop = timeit.default_timer()\n",
    "    ngram_score.append(accuracy_score(y_test,y_pred))\n",
    "    ngram_time_taken.append(stop - start)"
   ]
  },
  {
   "cell_type": "code",
   "execution_count": 188,
   "id": "7347551f-a680-48f2-8889-2fde7c671589",
   "metadata": {},
   "outputs": [],
   "source": [
    "ngram_score_chart = pd.DataFrame({'ml_name':ml_name, 'score':[x*100 for x in ngram_score], 'time_taken':ngram_time_taken})"
   ]
  },
  {
   "cell_type": "code",
   "execution_count": 189,
   "id": "53ef8bcd-0bf6-45de-b499-3124e8c855b3",
   "metadata": {},
   "outputs": [
    {
     "data": {
      "text/html": [
       "<iframe\n",
       "    scrolling=\"no\"\n",
       "    width=\"100%\"\n",
       "    height=\"420\"\n",
       "    src=\"iframe_figures/figure_189.html\"\n",
       "    frameborder=\"0\"\n",
       "    allowfullscreen\n",
       "></iframe>\n"
      ]
     },
     "metadata": {},
     "output_type": "display_data"
    }
   ],
   "source": [
    "pio.renderers.default = 'iframe'\n",
    "fig = px.bar(ngram_score_chart,x=\"ml_name\", y=\"score\",\n",
    "             hover_data=[\"score\",\"time_taken\"], color=\"time_taken\",\n",
    "             labels={'pop':'population of Canada'}, height=400, text_auto=True)\n",
    "fig.show()"
   ]
  },
  {
   "cell_type": "code",
   "execution_count": 190,
   "id": "ea03b04a-bd70-4aaf-b149-57b9bef5a1e0",
   "metadata": {},
   "outputs": [],
   "source": [
    "# {k: v for k, v in sorted(cv.vocabulary_.items(),reverse=True, key=lambda item: item[1])}"
   ]
  },
  {
   "cell_type": "markdown",
   "id": "92f0e42b-81d7-4b8e-bb46-63e9da3eec47",
   "metadata": {},
   "source": [
    "### TF-IDF Vectorizers"
   ]
  },
  {
   "cell_type": "code",
   "execution_count": 191,
   "id": "1c04b794-0d31-4873-9a4e-a91e1fdb8eaa",
   "metadata": {},
   "outputs": [],
   "source": [
    "from sklearn.feature_extraction.text import TfidfVectorizer\n",
    "tfidf = TfidfVectorizer()"
   ]
  },
  {
   "cell_type": "code",
   "execution_count": 192,
   "id": "ffa0d347-ec6d-4474-847a-d2805c66d989",
   "metadata": {},
   "outputs": [],
   "source": [
    "q1_arr_pre_tfidf, q2_arr_pre_tfidf = np.vsplit(tfidf.fit_transform(questions_pre).toarray(),2)"
   ]
  },
  {
   "cell_type": "code",
   "execution_count": 193,
   "id": "8680f420-174a-499a-9755-61253291ca91",
   "metadata": {},
   "outputs": [
    {
     "data": {
      "text/plain": [
       "(1000, 7138)"
      ]
     },
     "execution_count": 193,
     "metadata": {},
     "output_type": "execute_result"
    }
   ],
   "source": [
    "temp_df1_pre_tfidf = pd.DataFrame(q1_arr_pre_tfidf, index= question_df_pre.index)\n",
    "temp_df2_pre_tfidf = pd.DataFrame(q2_arr_pre_tfidf, index= question_df_pre.index)\n",
    "temp_df_pre_tfidf = pd.concat([temp_df1_pre_tfidf, temp_df2_pre_tfidf], axis=1)\n",
    "temp_df_pre_tfidf.shape"
   ]
  },
  {
   "cell_type": "code",
   "execution_count": 194,
   "id": "0da39f58-5d66-4149-a959-8326c870b4a0",
   "metadata": {},
   "outputs": [],
   "source": [
    "temp_df_pre_tfidf['is_duplicate'] = df['is_duplicate']"
   ]
  },
  {
   "cell_type": "code",
   "execution_count": 195,
   "id": "3fec71f6-e21c-436e-b52d-7e99e6e94e73",
   "metadata": {},
   "outputs": [],
   "source": [
    "from sklearn.model_selection import train_test_split\n",
    "X_train,X_test,y_train,y_test = train_test_split(temp_df_pre_tfidf.iloc[:,0:-1].values,temp_df_pre_tfidf.iloc[:,-1].values,test_size=0.2,random_state=1)"
   ]
  },
  {
   "cell_type": "code",
   "execution_count": 196,
   "id": "946523e6-7afa-449f-ac60-8e7597d0e229",
   "metadata": {},
   "outputs": [],
   "source": [
    "tfidf_score = []\n",
    "tfidf_time_taken = []\n",
    "for i in ml_algo:\n",
    "    i.fit(X_train,y_train)\n",
    "    y_pred = i.predict(X_test)\n",
    "    stop = timeit.default_timer()\n",
    "    tfidf_score.append(accuracy_score(y_test,y_pred))\n",
    "    tfidf_time_taken.append(stop - start)"
   ]
  },
  {
   "cell_type": "code",
   "execution_count": 197,
   "id": "05de2fa2-33ad-45dd-b9e3-185bbb2db95b",
   "metadata": {},
   "outputs": [],
   "source": [
    "tfidf_score_chart = pd.DataFrame({'ml_name':ml_name, 'score':[x*100 for x in tfidf_score], 'time_taken':tfidf_time_taken})"
   ]
  },
  {
   "cell_type": "code",
   "execution_count": 198,
   "id": "29ceb97a-a335-453b-a357-402ca7c6fd19",
   "metadata": {},
   "outputs": [
    {
     "data": {
      "text/html": [
       "<iframe\n",
       "    scrolling=\"no\"\n",
       "    width=\"100%\"\n",
       "    height=\"420\"\n",
       "    src=\"iframe_figures/figure_198.html\"\n",
       "    frameborder=\"0\"\n",
       "    allowfullscreen\n",
       "></iframe>\n"
      ]
     },
     "metadata": {},
     "output_type": "display_data"
    }
   ],
   "source": [
    "fig = px.bar(tfidf_score_chart,x=\"ml_name\", y=\"score\",\n",
    "             hover_data=[\"score\",\"time_taken\"], color=\"time_taken\",\n",
    "             labels={'pop':'population of Canada'}, height=400, text_auto=True)\n",
    "fig.show()"
   ]
  },
  {
   "cell_type": "markdown",
   "id": "44c28e7e-d793-45b7-9011-9128260d8aeb",
   "metadata": {},
   "source": [
    "### Word2vec"
   ]
  },
  {
   "cell_type": "code",
   "execution_count": 199,
   "id": "4c8322d9-1336-41a7-a7a0-6f80ddd3c0c8",
   "metadata": {},
   "outputs": [],
   "source": [
    "import gensim\n",
    "from nltk import sent_tokenize\n",
    "from gensim.utils import simple_preprocess\n",
    "def process_term(corpus):\n",
    "    story = []\n",
    "    for para in corpus:\n",
    "        raw_sent = sent_tokenize(para)\n",
    "        for sent in raw_sent:\n",
    "            story.append(simple_preprocess(sent))\n",
    "    return story"
   ]
  },
  {
   "cell_type": "code",
   "execution_count": 200,
   "id": "20caf510-7d3f-4839-90a7-079ac3d19c99",
   "metadata": {},
   "outputs": [],
   "source": [
    "question_df_pre_w2c = df[['question1','question2']]"
   ]
  },
  {
   "cell_type": "code",
   "execution_count": 201,
   "id": "acdd396f-ff8b-478e-9ac7-0ea6524765d1",
   "metadata": {},
   "outputs": [],
   "source": [
    "x = process_term(question_df_pre_w2c['question1'])"
   ]
  },
  {
   "cell_type": "code",
   "execution_count": 202,
   "id": "23d11097-7ab5-4e49-951b-c0435e707e05",
   "metadata": {},
   "outputs": [],
   "source": [
    "model = gensim.models.Word2Vec(\n",
    "    window=10,\n",
    "    min_count=2\n",
    ")"
   ]
  },
  {
   "cell_type": "code",
   "execution_count": 203,
   "id": "f491aa8d-d20f-4ed4-a9b8-6e2f42db6217",
   "metadata": {},
   "outputs": [],
   "source": [
    "model.build_vocab(x)"
   ]
  },
  {
   "cell_type": "code",
   "execution_count": 204,
   "id": "0dd3d914-e40b-4da8-8c02-bbfa259913f6",
   "metadata": {},
   "outputs": [
    {
     "data": {
      "text/plain": [
       "(17388, 28165)"
      ]
     },
     "execution_count": 204,
     "metadata": {},
     "output_type": "execute_result"
    }
   ],
   "source": [
    "model.train(x, total_examples=model.corpus_count, epochs=model.epochs)"
   ]
  },
  {
   "cell_type": "code",
   "execution_count": 211,
   "id": "84904fa2-e8e6-491b-9e2b-3ec0ee618237",
   "metadata": {},
   "outputs": [
    {
     "data": {
      "text/plain": [
       "[('mail', 0.32273921370506287),\n",
       " ('man', 0.31433743238449097),\n",
       " ('existence', 0.25792840123176575),\n",
       " ('non', 0.24913446605205536),\n",
       " ('post', 0.2418147325515747),\n",
       " ('throw', 0.23306265473365784),\n",
       " ('gas', 0.22379234433174133),\n",
       " ('recruit', 0.22159899771213531),\n",
       " ('data', 0.21756024658679962),\n",
       " ('amount', 0.21368533372879028)]"
      ]
     },
     "execution_count": 211,
     "metadata": {},
     "output_type": "execute_result"
    }
   ],
   "source": [
    "model.wv.most_similar('uk')"
   ]
  },
  {
   "cell_type": "code",
   "execution_count": 212,
   "id": "b27a94d4-ece8-4175-a4a6-cf8bbfe7d572",
   "metadata": {},
   "outputs": [
    {
     "data": {
      "text/plain": [
       "0.024443489"
      ]
     },
     "execution_count": 212,
     "metadata": {},
     "output_type": "execute_result"
    }
   ],
   "source": [
    "model.wv.similarity('modi','india')"
   ]
  },
  {
   "cell_type": "code",
   "execution_count": 213,
   "id": "09b08faf-2336-4c71-9485-faad18eb8a28",
   "metadata": {},
   "outputs": [],
   "source": [
    "from sklearn.decomposition import PCA"
   ]
  },
  {
   "cell_type": "code",
   "execution_count": 214,
   "id": "389fc55b-e6d6-4c88-89d2-8c2b32207de4",
   "metadata": {},
   "outputs": [],
   "source": [
    "pca = PCA(n_components=3)"
   ]
  },
  {
   "cell_type": "code",
   "execution_count": 215,
   "id": "974f13de-0f08-4c6e-8260-a3fd9abbfe75",
   "metadata": {},
   "outputs": [],
   "source": [
    "X = pca.fit_transform(model.wv.get_normed_vectors())"
   ]
  },
  {
   "cell_type": "code",
   "execution_count": 219,
   "id": "7e37150f-cd17-4747-8e76-c7981bf76164",
   "metadata": {},
   "outputs": [
    {
     "data": {
      "text/html": [
       "<iframe\n",
       "    scrolling=\"no\"\n",
       "    width=\"100%\"\n",
       "    height=\"545px\"\n",
       "    src=\"iframe_figures/figure_219.html\"\n",
       "    frameborder=\"0\"\n",
       "    allowfullscreen\n",
       "></iframe>\n"
      ]
     },
     "metadata": {},
     "output_type": "display_data"
    }
   ],
   "source": [
    "fig = px.scatter_3d(X[200:300],x=0,y=1,z=2)\n",
    "fig.show()"
   ]
  },
  {
   "cell_type": "code",
   "execution_count": null,
   "id": "cc362e03-c36a-4c0d-bbad-66754b15f049",
   "metadata": {},
   "outputs": [],
   "source": []
  }
 ],
 "metadata": {
  "kernelspec": {
   "display_name": "Python 3 (ipykernel)",
   "language": "python",
   "name": "python3"
  },
  "language_info": {
   "codemirror_mode": {
    "name": "ipython",
    "version": 3
   },
   "file_extension": ".py",
   "mimetype": "text/x-python",
   "name": "python",
   "nbconvert_exporter": "python",
   "pygments_lexer": "ipython3",
   "version": "3.9.0"
  }
 },
 "nbformat": 4,
 "nbformat_minor": 5
}
